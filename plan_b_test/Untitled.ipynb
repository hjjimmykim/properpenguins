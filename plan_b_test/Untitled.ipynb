{
 "cells": [
  {
   "cell_type": "code",
   "execution_count": null,
   "metadata": {
    "collapsed": true
   },
   "outputs": [],
   "source": [
    "%load_ext autoreload\n",
    "%autoreload 2\n",
    "\n",
    "from main import *"
   ]
  },
  {
   "cell_type": "code",
   "execution_count": 4,
   "metadata": {
    "collapsed": true
   },
   "outputs": [],
   "source": [
    "import numpy as np\n",
    "\n",
    "fname1 = \"./test_rewards_TFT2_sum.csv\"\n",
    "fname2 = \"./test_rewards_TFT2_sum1.csv\"\n",
    "fname3 = \"./test_rewards_TFT2_sum2.csv\"\n",
    "\n",
    "y1 = np.genfromtxt(fname1,delimiter=',')\n",
    "y2 = np.genfromtxt(fname2,delimiter=',')\n",
    "y3 = np.genfromtxt(fname3,delimiter=',')"
   ]
  },
  {
   "cell_type": "code",
   "execution_count": 5,
   "metadata": {},
   "outputs": [
    {
     "data": {
      "text/plain": [
       "<matplotlib.figure.Figure at 0x7f1a7b8c3470>"
      ]
     },
     "metadata": {},
     "output_type": "display_data"
    },
    {
     "data": {
      "image/png": "[encoded data removed]",
      "text/plain": [
       "<matplotlib.figure.Figure at 0x7f1b30f6d898>"
      ]
     },
     "metadata": {},
     "output_type": "display_data"
    }
   ],
   "source": [
    "import matplotlib.pyplot as plt\n",
    "\n",
    "plt.figure()\n",
    "epoch_list = np.arange(len(y1))*ep_rec\n",
    "plt.plot(epoch_list,y1,label='sum')\n",
    "plt.plot(epoch_list,y2,label='sum1')\n",
    "plt.plot(epoch_list,y3,label='sum2')\n",
    "plt.ylim([0,1])\n",
    "plt.xlim([0,len(y1)*ep_rec])\n",
    "plt.legend()\n",
    "plt.savefig('N_ep=' + str(N_ep) + '_negativeref.png')\n",
    "plt.show()"
   ]
  },
  {
   "cell_type": "code",
   "execution_count": 8,
   "metadata": {},
   "outputs": [
    {
     "data": {
      "text/plain": [
       "10"
      ]
     },
     "execution_count": 8,
     "metadata": {},
     "output_type": "execute_result"
    }
   ],
   "source": [
    "ep_rec"
   ]
  },
  {
   "cell_type": "code",
   "execution_count": null,
   "metadata": {
    "collapsed": true
   },
   "outputs": [],
   "source": []
  }
 ],
 "metadata": {
  "kernelspec": {
   "display_name": "Python 3",
   "language": "python",
   "name": "python3"
  },
  "language_info": {
   "codemirror_mode": {
    "name": "ipython",
    "version": 3
   },
   "file_extension": ".py",
   "mimetype": "text/x-python",
   "name": "python",
   "nbconvert_exporter": "python",
   "pygments_lexer": "ipython3",
   "version": "3.5.5"
  }
 },
 "nbformat": 4,
 "nbformat_minor": 2
}
