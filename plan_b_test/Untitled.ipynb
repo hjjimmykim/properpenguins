{
 "cells": [
  {
   "cell_type": "code",
   "execution_count": 5,
   "metadata": {},
   "outputs": [
    {
     "name": "stdout",
     "output_type": "stream",
     "text": [
      "Runtime for episodes 0-1000: 101.29029083251953 s\n",
      "Runtime for episodes 1000-2000: 105.23115873336792 s\n",
      "Runtime for episodes 2000-3000: 112.27076745033264 s\n",
      "Runtime for episodes 3000-4000: 275.3378007411957 s\n",
      "Runtime for episodes 4000-5000: 304.3002116680145 s\n",
      "Runtime for episodes 5000-6000: 321.9098336696625 s\n",
      "Runtime for episodes 6000-7000: 141.65806674957275 s\n",
      "Runtime for episodes 7000-8000: 103.17970871925354 s\n",
      "Runtime for episodes 8000-9000: 127.35206389427185 s\n",
      "Total runtime: 1724.4356541633606 s\n",
      "The autoreload extension is already loaded. To reload it, use:\n",
      "  %reload_ext autoreload\n"
     ]
    }
   ],
   "source": [
    "%load_ext autoreload\n",
    "%autoreload 2\n",
    "\n",
    "from main import *"
   ]
  },
  {
   "cell_type": "code",
   "execution_count": 6,
   "metadata": {
    "collapsed": true
   },
   "outputs": [],
   "source": [
    "import numpy as np\n",
    "\n",
    "fname1 = \"./test_rewards_TFT2_sum.csv\"\n",
    "fname2 = \"./test_rewards_TFT2_sum1.csv\"\n",
    "fname3 = \"./test_rewards_TFT2_sum2.csv\"\n",
    "\n",
    "y1 = np.genfromtxt(fname1,delimiter=',')\n",
    "y2 = np.genfromtxt(fname2,delimiter=',')\n",
    "y3 = np.genfromtxt(fname3,delimiter=',')"
   ]
  },
  {
   "cell_type": "code",
   "execution_count": 7,
   "metadata": {},
   "outputs": [
    {
     "data": {
      "image/png": "[encoded data removed]",
      "text/plain": [
       "<matplotlib.figure.Figure at 0x7f6a88082358>"
      ]
     },
     "metadata": {},
     "output_type": "display_data"
    }
   ],
   "source": [
    "import matplotlib.pyplot as plt\n",
    "\n",
    "plt.figure()\n",
    "epoch_list = np.arange(len(y1))*ep_rec\n",
    "plt.plot(epoch_list,y1,label='sum')\n",
    "plt.plot(epoch_list,y2,label='sum1')\n",
    "plt.plot(epoch_list,y3,label='sum2')\n",
    "plt.ylim([0,1])\n",
    "plt.xlim([0,len(y1)*ep_rec])\n",
    "plt.legend()\n",
    "plt.savefig('N_ep=' + str(N_ep) + '_ref.png')\n",
    "plt.show()"
   ]
  },
  {
   "cell_type": "code",
   "execution_count": 8,
   "metadata": {},
   "outputs": [
    {
     "data": {
      "text/plain": [
       "10"
      ]
     },
     "execution_count": 8,
     "metadata": {},
     "output_type": "execute_result"
    }
   ],
   "source": [
    "ep_rec"
   ]
  },
  {
   "cell_type": "code",
   "execution_count": null,
   "metadata": {
    "collapsed": true
   },
   "outputs": [],
   "source": []
  }
 ],
 "metadata": {
  "kernelspec": {
   "display_name": "Python 3",
   "language": "python",
   "name": "python3"
  },
  "language_info": {
   "codemirror_mode": {
    "name": "ipython",
    "version": 3
   },
   "file_extension": ".py",
   "mimetype": "text/x-python",
   "name": "python",
   "nbconvert_exporter": "python",
   "pygments_lexer": "ipython3",
   "version": "3.6.1"
  }
 },
 "nbformat": 4,
 "nbformat_minor": 2
}
