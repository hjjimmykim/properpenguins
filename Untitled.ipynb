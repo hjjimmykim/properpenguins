{
 "cells": [
  {
   "cell_type": "code",
   "execution_count": 6,
   "metadata": {
    "collapsed": true
   },
   "outputs": [],
   "source": [
    "import numpy as np\n",
    "import matplotlib.pyplot as plt\n",
    "\n",
    "# Network\n",
    "import torch\n",
    "from torch import autograd\n",
    "from torch.autograd import Variable\n",
    "import torch.nn as nn\n",
    "import torch.nn.functional as F\n",
    "\n",
    "# Optimizer\n",
    "import torch.optim as optim"
   ]
  },
  {
   "cell_type": "code",
   "execution_count": 7,
   "metadata": {
    "collapsed": true
   },
   "outputs": [],
   "source": [
    "# Game setup\n",
    "num_types = 3    # Number of item types\n",
    "max_item = 5     # Maximum number of each item in a pool\n",
    "max_utility = 10 # Maximum utility value for agents\n",
    "\n",
    "# Linguistic channel\n",
    "num_vocab = 10   # Symbol vocabulary size for linguistic channel\n",
    "len_message = 6  # Linguistic message length\n",
    "\n",
    "# Appendix\n",
    "lambda1 = 0.05  # Entropy regularizer for pi_term, pi_prop\n",
    "lambda2 = 0.001 # Entropy regularizer for pi_utt\n",
    "smoothing_const = 0.7 # Smoothing constant for the exponential moving average baseline"
   ]
  },
  {
   "cell_type": "code",
   "execution_count": 8,
   "metadata": {
    "collapsed": true
   },
   "outputs": [],
   "source": [
    "# Sample an item pool for a game\n",
    "def create_item_pool(num_types, max_item):\n",
    "    # Possible to have zero items?\n",
    "    pool = np.random.randint(0, max_item+1, num_types)\n",
    "    \n",
    "    return pool\n",
    "        \n",
    "# Sample agent utility\n",
    "def create_agent_utility(num_types, max_utility):\n",
    "    utility = np.zeros(num_types) # Initialize zero vector\n",
    "    \n",
    "    while np.sum(utility) == 0:   # At least one item has non-zero utility\n",
    "        utility = np.random.randint(0, max_utility+1, num_types)\n",
    "        \n",
    "    return utility\n",
    "\n",
    "# Calculate reward\n",
    "def reward(share, utility):\n",
    "    return np.dot(utility, share)"
   ]
  },
  {
   "cell_type": "code",
   "execution_count": 62,
   "metadata": {},
   "outputs": [],
   "source": [
    "class combined_policy(nn.Module):\n",
    "    def __init__(self, embedding_dim = 100, num_layers = 1, bias = True, batch_first = True, dropout = 0, bidirectional = False):\n",
    "        super(combined_policy, self).__init__()\n",
    "        # Save variables\n",
    "        self.embedding_dim = embedding_dim\n",
    "        \n",
    "        # Numerical encoder\n",
    "        self.encoder1 = nn.Embedding(max_utility, embedding_dim)\n",
    "        # Linguistic encoder\n",
    "        self.encoder2 = nn.Embedding(num_vocab, embedding_dim)\n",
    "        \n",
    "        # Item context LSTM\n",
    "        self.lstm1 = nn.LSTM(embedding_dim, embedding_dim, num_layers, bias, batch_first, dropout, bidirectional)\n",
    "        # Linguistic LSTM\n",
    "        self.lstm2 = nn.LSTM(embedding_dim, embedding_dim, num_layers, bias, batch_first, dropout, bidirectional)\n",
    "        # Proposal LSTM\n",
    "        self.lstm3 = nn.LSTM(embedding_dim, embedding_dim, num_layers, bias, batch_first, dropout, bidirectional)\n",
    "        \n",
    "        # Feed-forward\n",
    "        self.ff = nn.Linear(embedding_dim, embedding_dim)\n",
    "        \n",
    "        # Termination policy\n",
    "        self.policy_term = nn.Linear(embedding_dim, 1)\n",
    "        # Linguistic policy\n",
    "        self.policy_ling = nn.LSTM(embedding_dim, embedding_dim, num_layers, bias, batch_first, dropout, bidirectional)\n",
    "        self.ff_ling = nn.Linear(embedding_dim, num_vocab)\n",
    "        # Proposal policies\n",
    "        self.policy_prop = []\n",
    "        for i in range(num_types):\n",
    "            ff = nn.Linear(embedding_dim, 1)\n",
    "            self.policy_prop.append(ff)\n",
    "        \n",
    "    def forward(self, x, test):\n",
    "        # Item context\n",
    "        x1 = x[0]\n",
    "        # Previous linguistic message\n",
    "        x2 = x[1]\n",
    "        # Previous proposal\n",
    "        x3 = x[2]\n",
    "        \n",
    "        # Initial embedding\n",
    "        x1 = self.encoder1(x1).view(x1.size()[1],1,-1)\n",
    "        x2 = self.encoder2(x2).view(x2.size()[1],1,-1)\n",
    "        x3 = self.encoder1(x3).view(x3.size()[1],1,-1)\n",
    "        \n",
    "        # LSTM for item context\n",
    "        h = torch.zeros(1,1,self.embedding_dim) # Initial hidden\n",
    "        c = torch.zeros(1,1,self.embedding_dim) # Initial cell\n",
    "\n",
    "        for i in range(x1.size()[0]):\n",
    "            _, (h,c) = self.lstm1(x1[i].view(1,1,-1),(h,c))\n",
    "        x1 = h\n",
    "        \n",
    "        # LSTM for linguistic\n",
    "        h = torch.zeros(1,1,self.embedding_dim) # Initial hidden\n",
    "        c = torch.zeros(1,1,self.embedding_dim) # Initial cell\n",
    "\n",
    "        for i in range(x2.size()[0]):\n",
    "            _, (h,c) = self.lstm2(x2[i].view(1,1,-1),(h,c))\n",
    "        x2 = h\n",
    "        \n",
    "        # LSTM for proposal\n",
    "        h = torch.zeros(1,1,self.embedding_dim) # Initial hidden\n",
    "        c = torch.zeros(1,1,self.embedding_dim) # Initial cell\n",
    "\n",
    "        for i in range(x3.size()[0]):\n",
    "            _, (h,c) = self.lstm2(x3[i].view(1,1,-1),(h,c))\n",
    "        x3 = h\n",
    "        \n",
    "        # Concatenate side-by-side\n",
    "        x = torch.cat([x1,x2,x3],1)\n",
    "        \n",
    "        # Feedforward\n",
    "        h = self.ff(x)\n",
    "        h = F.relu(h)\n",
    "        \n",
    "        # Termination probability\n",
    "        p_term = F.sigmoid(self.policy_term(h))\n",
    "        # Linguistic construction\n",
    "        h = torch.zeros(1,1,self.embedding_dim) # Initial hidden state\n",
    "        c = torch.zeros(1,1,self.embedding_dim) # Initial cell state\n",
    "        letter = torch.zeros(1,1).long() # Initial letter (dummy)\n",
    "        \n",
    "        message = [] # Message\n",
    "        for i in range(len_message):\n",
    "            embedded_letter = self.encoder2(letter)\n",
    "            \n",
    "            out, (h,c) = self.policy_ling(embedded_letter,(h,c))\n",
    "            logit = self.ff_ling(h)\n",
    "            prob_letter = F.softmax(logit,dim=2)\n",
    "            \n",
    "            if test:\n",
    "                # Greedy\n",
    "                letter = prob_letter.data.max(1)[1]\n",
    "            else:\n",
    "                # Sample\n",
    "                letter = torch.polynomial(prob_letter,1)\n",
    "            \n",
    "            message.append(letter)\n",
    "\n",
    "        # Proposal probability\n",
    "        p_prop = torch.zeros(num_types)\n",
    "        for i in range(num_types):\n",
    "            p_prop[i] = F.sigmoid(self.policy_prop[i](h))"
   ]
  },
  {
   "cell_type": "code",
   "execution_count": 63,
   "metadata": {},
   "outputs": [],
   "source": [
    "net = combined_policy()"
   ]
  },
  {
   "cell_type": "code",
   "execution_count": 11,
   "metadata": {},
   "outputs": [
    {
     "data": {
      "text/plain": [
       "'torch.LongTensor'"
      ]
     },
     "execution_count": 11,
     "metadata": {},
     "output_type": "execute_result"
    }
   ],
   "source": [
    "x = torch.zeros([1,3]).long()\n",
    "y = torch.zeros([1,6]).long()\n",
    "z = torch.zeros([1,3]).long()\n",
    "\n",
    "x.type()"
   ]
  },
  {
   "cell_type": "code",
   "execution_count": 64,
   "metadata": {},
   "outputs": [],
   "source": [
    "net([x,y,z],True)"
   ]
  },
  {
   "cell_type": "code",
   "execution_count": 16,
   "metadata": {},
   "outputs": [
    {
     "data": {
      "text/plain": [
       "tensor([ 5,  1,  4,  0,  3,  2,  5,  5,  5,  5,  4,  4])"
      ]
     },
     "execution_count": 16,
     "metadata": {},
     "output_type": "execute_result"
    }
   ],
   "source": [
    "torch.from_numpy(np.random.choice(6,(4,3),replace=True)).view(-1)"
   ]
  },
  {
   "cell_type": "code",
   "execution_count": null,
   "metadata": {
    "collapsed": true
   },
   "outputs": [],
   "source": []
  }
 ],
 "metadata": {
  "anaconda-cloud": {},
  "kernelspec": {
   "display_name": "Python 3",
   "language": "python",
   "name": "python3"
  },
  "language_info": {
   "codemirror_mode": {
    "name": "ipython",
    "version": 3
   },
   "file_extension": ".py",
   "mimetype": "text/x-python",
   "name": "python",
   "nbconvert_exporter": "python",
   "pygments_lexer": "ipython3",
   "version": "3.6.1"
  }
 },
 "nbformat": 4,
 "nbformat_minor": 2
}
