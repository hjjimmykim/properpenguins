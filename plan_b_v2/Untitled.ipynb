{
 "cells": [
  {
   "cell_type": "code",
   "execution_count": 1,
   "metadata": {},
   "outputs": [],
   "source": [
    "%load_ext autoreload\n",
    "%autoreload 2\n",
    "\n",
    "from main import *"
   ]
  },
  {
   "cell_type": "code",
   "execution_count": 3,
   "metadata": {},
   "outputs": [],
   "source": [
    "import numpy as np\n",
    "\n",
    "fname1 = \"./test_rewards_TTT_0.05000.00100.0500_sum.csv\"\n",
    "fname2 = \"./test_rewards_TTT_0.05000.00100.0500_sum1.csv\"\n",
    "fname3 = \"./test_rewards_TTT_0.05000.00100.0500_sum2.csv\"\n",
    "\n",
    "y1 = np.genfromtxt(fname1,delimiter=',')\n",
    "y2 = np.genfromtxt(fname2,delimiter=',')\n",
    "y3 = np.genfromtxt(fname3,delimiter=',')"
   ]
  },
  {
   "cell_type": "code",
   "execution_count": 14,
   "metadata": {},
   "outputs": [
    {
     "data": {
      "image/png": "[encoded data removed]",
      "text/plain": [
       "<Figure size 432x288 with 1 Axes>"
      ]
     },
     "metadata": {},
     "output_type": "display_data"
    }
   ],
   "source": [
    "import matplotlib.pyplot as plt\n",
    "\n",
    "plt.figure()\n",
    "epoch_list = np.arange(len(y1))\n",
    "plt.plot(epoch_list,y1,label='sum')\n",
    "plt.plot(epoch_list,y2,label='sum1')\n",
    "plt.plot(epoch_list,y3,label='sum2')\n",
    "plt.ylim([0,1])\n",
    "plt.xlim([0,len(y1)])\n",
    "plt.legend()\n",
    "plt.savefig('N_ep=' + str(200000) + '.png')\n",
    "plt.show()"
   ]
  },
  {
   "cell_type": "code",
   "execution_count": null,
   "metadata": {},
   "outputs": [],
   "source": []
  }
 ],
 "metadata": {
  "kernelspec": {
   "display_name": "Python 3",
   "language": "python",
   "name": "python3"
  },
  "language_info": {
   "codemirror_mode": {
    "name": "ipython",
    "version": 3
   },
   "file_extension": ".py",
   "mimetype": "text/x-python",
   "name": "python",
   "nbconvert_exporter": "python",
   "pygments_lexer": "ipython3",
   "version": "3.5.5"
  }
 },
 "nbformat": 4,
 "nbformat_minor": 2
}
